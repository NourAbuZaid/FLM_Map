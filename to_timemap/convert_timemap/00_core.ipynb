{
 "cells": [
  {
   "cell_type": "code",
   "execution_count": 3,
   "metadata": {},
   "outputs": [],
   "source": [
    "# default_exp core"
   ]
  },
  {
   "cell_type": "markdown",
   "metadata": {},
   "source": [
    "# to_timemap\n",
    "\n",
    "> Exports a timemap-ready XLSX from some other data."
   ]
  },
  {
   "cell_type": "code",
   "execution_count": 91,
   "metadata": {},
   "outputs": [],
   "source": [
    "#export\n",
    "import json\n",
    "import xlsxwriter\n",
    "from datetime import datetime\n",
    "from fastscript import *"
   ]
  },
  {
   "cell_type": "code",
   "execution_count": 100,
   "metadata": {},
   "outputs": [],
   "source": [
    "#export\n",
    "DEFAULT_HEADERS = [\n",
    "    \"id\",\n",
    "    \"description\",\n",
    "    \"location\",\n",
    "    \"date\",\n",
    "    \"time\",\n",
    "    \"latitude\",\n",
    "    \"longitude\",\n",
    "    \"category\",\n",
    "    \"filter0\",\n",
    "    \"colour\"\n",
    "]"
   ]
  },
  {
   "cell_type": "code",
   "execution_count": 113,
   "metadata": {},
   "outputs": [],
   "source": [
    "import random\n",
    "\n",
    "def distinct_colors(n):\n",
    "    ret = []\n",
    "    r = int(random.random() * 256)\n",
    "    g = int(random.random() * 256)\n",
    "    b = int(random.random() * 256)\n",
    "    step = 256 / n\n",
    "    for i in range(n):\n",
    "        r += step\n",
    "        g += step\n",
    "        b += step\n",
    "        r = int(r) % 256\n",
    "        g = int(g) % 256\n",
    "        b = int(b) % 256\n",
    "        ret.append(f\"rgb({r},{g},{b}\") \n",
    "    return ret"
   ]
  },
  {
   "cell_type": "code",
   "execution_count": 114,
   "metadata": {
    "code_folding": [
     4
    ]
   },
   "outputs": [],
   "source": [
    "#export\n",
    "def dt(d: str) -> datetime:\n",
    "    return datetime.strptime(d, '%Y-%m-%dT%H:%M:%SZ')\n",
    "\n",
    "def getDate(item: str) -> datetime:\n",
    "    lspt = item.get('lastSpotted')\n",
    "    if lspt is not None:\n",
    "        return dt(lspt)\n",
    "    startTime = item.get('startTime')\n",
    "    if startTime is not None:\n",
    "        return dt(startTime)\n",
    "    endTime = item.get('endTime')\n",
    "    if endTime is not None:\n",
    "        return dt(endTime)\n",
    "    raise Exception(\"JSON value doesn't have lastSpotted, startTime, or endTime\")\n",
    "    \n",
    "def from_fleming(jdata, color):\n",
    "    headers = DEFAULT_HEADERS\n",
    "    odata = []\n",
    "    past_locations = {}\n",
    "    for idx, d in enumerate(jdata):\n",
    "        thedate = getDate(d)\n",
    "        lat = d['coordinates']['lat']\n",
    "        lon = d['coordinates']['lon']\n",
    "        locname = f\"location{idx}\"\n",
    "        k = f\"{lat}_{lon}\"\n",
    "        if past_locations.get(k) is not None:\n",
    "            locname = past_locations[k]\n",
    "        else:\n",
    "            past_locations[f\"{lat}_{lon}\"] = locname\n",
    "        rdata = [\n",
    "            idx,\n",
    "            d['targetId'],\n",
    "            locname,\n",
    "            datetime.strftime(thedate, '%m/%d/%Y'),\n",
    "            datetime.strftime(thedate, '%H:%M:%S'),\n",
    "            lat,\n",
    "            lon,\n",
    "            \"alpha\", # just one category\n",
    "            d['targetId'],\n",
    "            color\n",
    "            \n",
    "        ]\n",
    "        odata.append(rdata)\n",
    "\n",
    "    return headers, odata"
   ]
  },
  {
   "cell_type": "code",
   "execution_count": 115,
   "metadata": {
    "code_folding": []
   },
   "outputs": [],
   "source": [
    "#export\n",
    "CONVERTER = from_fleming\n",
    "\n",
    "def write_sheet(sheet, hdrs, rows):\n",
    "    row = 0\n",
    "    col = 0\n",
    "\n",
    "    for hdr in hdrs:\n",
    "        sheet.write(row, col, hdr)\n",
    "        col += 1\n",
    "\n",
    "    row = 1\n",
    "    col = 0\n",
    "\n",
    "    for rdata in rows:\n",
    "        col = 0\n",
    "        for cell in rdata:\n",
    "            sheet.write(row, col, cell)\n",
    "            col += 1\n",
    "        row += 1\n",
    "    \n",
    "@call_parse\n",
    "def write_xlsx_from_json(inp:Param(\"Input file\", str),\n",
    "                 outp:Param(\"Output file\", str)=\"out.xlsx\",\n",
    "                 color:Param(\"The color of events\", str)=\"red\",\n",
    "                 tabname:Param('Name of tab', str)=\"export_events\"):\n",
    "    workbook = xlsxwriter.Workbook(outp)\n",
    "    worksheet = workbook.add_worksheet(tabname)\n",
    "\n",
    "    with open(inp, 'r') as f:\n",
    "        data = json.load(f)\n",
    "\n",
    "    conv_data = CONVERTER(data, color)\n",
    "    headers = conv_data[0]\n",
    "    row_data = conv_data[1]\n",
    "\n",
    "    write_sheet(worksheet, headers, row_data)\n",
    "    \n",
    "    workbook.close()"
   ]
  },
  {
   "cell_type": "markdown",
   "metadata": {},
   "source": [
    "## Test\n",
    "Running on sample.json from notebook."
   ]
  },
  {
   "cell_type": "code",
   "execution_count": 116,
   "metadata": {},
   "outputs": [],
   "source": [
    "import os\n",
    "from pathlib import Path\n",
    "samplef = Path(os.getcwd()).parents[0] / \"sample.json\"\n",
    "# main(samplef)"
   ]
  },
  {
   "cell_type": "markdown",
   "metadata": {},
   "source": [
    "# Generate .xlsx files for all .jsons\n",
    "Store the names of files processed in `created_sheets` for the next step."
   ]
  },
  {
   "cell_type": "code",
   "execution_count": 117,
   "metadata": {},
   "outputs": [],
   "source": [
    "desktop = list(Path(os.getcwd()).parents)[-3] / 'Desktop'\n",
    "targets = desktop/'TargetsIds'\n",
    "countries = [Path(x) for x in targets.glob(\"**/*\") if x.is_dir()]\n",
    "output = desktop/'TargetsDatasheets'\n",
    "output_xlsx = output/'datasheet-server'/'data'\n",
    "output_xlsx.mkdir(parents=True, exist_ok=True)\n",
    "created_sheets = []"
   ]
  },
  {
   "cell_type": "code",
   "execution_count": 118,
   "metadata": {},
   "outputs": [
    {
     "name": "stdout",
     "output_type": "stream",
     "text": [
      "['rgb(152,5,197', 'rgb(203,56,248', 'rgb(254,107,43', 'rgb(49,158,94', 'rgb(100,209,145']\n"
     ]
    }
   ],
   "source": [
    "bhr_folder = countries[0]\n",
    "bhr_files = [x for x in bhr_folder.glob(\"**/*\") if x.is_file()]\n",
    "colors = distinct_colors(len(bhr_files))\n",
    "print(colors)\n",
    "for idx, f in enumerate(bhr_files):\n",
    "    # create a f\"{f.name}.xlsx\" in output using main()\n",
    "    write_xlsx_from_json(f, output_xlsx/f\"bhr_{f.stem}.xlsx\", colors[idx])\n",
    "    created_sheets.append(f.stem)\n",
    "\n",
    "# make a metadata sheet for categories and filters\n",
    "workbook = xlsxwriter.Workbook(output_xlsx/\"metadata.xlsx\")\n",
    "write_sheet(workbook.add_worksheet('export_categories'),\n",
    "            ['category', 'description'],\n",
    "            [['alpha', 'the only category...']])\n",
    "write_sheet(workbook.add_worksheet('export_filters'),\n",
    "            ['None'],\n",
    "            [[x] for x in created_sheets])\n",
    "workbook.close()"
   ]
  },
  {
   "cell_type": "markdown",
   "metadata": {},
   "source": [
    "# Generate timemap and datasheet-server templates"
   ]
  },
  {
   "cell_type": "code",
   "execution_count": 106,
   "metadata": {},
   "outputs": [],
   "source": [
    "import pandas as pd\n",
    "def derive_latlon(sheets):\n",
    "    # for the time being, just pick first\n",
    "    sheet =  pd.read_excel(output_xlsx / f\"bhr_{sheets[0]}.xlsx\", sheet_name='export_events')\n",
    "    for idx, row in sheet[['latitude', 'longitude']].iterrows():\n",
    "        return f\"[{row.latitude}, {row.longitude}]\""
   ]
  },
  {
   "cell_type": "code",
   "execution_count": 107,
   "metadata": {
    "code_folding": []
   },
   "outputs": [],
   "source": [
    "from string import Template\n",
    "\n",
    "# event_exts, category_ext, map_anchor\n",
    "tm_template = Template(\"\"\"module.exports = {\n",
    "  title: 'example',\n",
    "  display_title: 'Target Trace',\n",
    "  SERVER_ROOT: 'http://localhost:4040',\n",
    "  EVENTS_EXT: [\n",
    "      $event_exts\n",
    "  ],\n",
    "  CATEGORIES_EXT: '$categories_ext',\n",
    "  SOURCES_EXT: '',\n",
    "  NARRATIVES_EXT: '',\n",
    "  FILTERS_EXT: '$filters_ext',\n",
    "  SITES_EXT: '',\n",
    "  DATE_FMT: 'MM/DD/YYYY',\n",
    "  TIME_FMT: 'hh:mm:ss',\n",
    "\n",
    "  store: {\n",
    "    app: {\n",
    "      map: {\n",
    "        anchor: $map_anchor,\n",
    "        maxZoom: 15,\n",
    "        minZoom: 3,\n",
    "        startZoom: 10\n",
    "      },\n",
    "      timeline: {\n",
    "        range: [\n",
    "          new Date('2020-03-01T00:00:00Z'),\n",
    "          new Date('2020-04-01T00:00:00.000Z')\n",
    "        ],\n",
    "        rangeLimits: [\n",
    "          new Date('2019-01-01T00:00:00.000Z'),\n",
    "          new Date('2020-07-01T00:00:00.000Z')\n",
    "        ],\n",
    "        dimensions: {}\n",
    "      }\n",
    "    },\n",
    "    features: {\n",
    "      USE_COVER: false,\n",
    "      USE_CATEGORIES: true,\n",
    "      USE_FILTERS: true,\n",
    "      USE_SITES: false,\n",
    "      USE_SOURCES: false,\n",
    "      USE_NARRATIVES: false,\n",
    "      USE_SEARCH: false\n",
    "    }\n",
    "  }\n",
    "}\n",
    "\"\"\")\n",
    "\n",
    "single_xlsx = Template(\"\"\"{ name: '$name', path: 'data/bhr_$name.xlsx', tabs: timemap.default }\"\"\")\n",
    "\n",
    "dss_template = Template(\"\"\"import { timemap } from './lib'\n",
    "\n",
    "export default {\n",
    "  gsheets: [],\n",
    "  xlsx: [\n",
    "      { name: 'metadata', path: 'data/metadata.xlsx', tabs: timemap.default },\n",
    "      $xlsx_sheets\n",
    "  ]\n",
    "}\n",
    "\"\"\")\n",
    "\n",
    "dss_config = dss_template.substitute(\n",
    "    xlsx_sheets=',\\n'.join([single_xlsx.substitute(name=s) for s in created_sheets])\n",
    ")\n",
    "\n",
    "tm_config = tm_template.substitute(\n",
    "    event_exts=\", \".join([f\"'/api/{x}/export_events/deeprows'\" for x in created_sheets]),\n",
    "    categories_ext=\"/api/metadata/export_categories/rows\",\n",
    "    filters_ext=\"/api/metadata/export_filters/tree\",\n",
    "    map_anchor=derive_latlon(created_sheets)\n",
    ")\n",
    "\n",
    "with (output/'timemap'/'config.js').open('w', encoding='utf-8') as f:\n",
    "    f.write(tm_config)\n",
    "    \n",
    "with (output/'datasheet-server'/'src'/'config.js').open('w', encoding='utf-8') as f:\n",
    "    f.write(dss_config)"
   ]
  },
  {
   "cell_type": "code",
   "execution_count": 81,
   "metadata": {},
   "outputs": [],
   "source": [
    "#hide\n",
    "from nbdev.showdoc import *"
   ]
  },
  {
   "cell_type": "code",
   "execution_count": 74,
   "metadata": {},
   "outputs": [
    {
     "name": "stdout",
     "output_type": "stream",
     "text": [
      "Converted 00_core.ipynb.\n",
      "Converted index.ipynb.\n"
     ]
    }
   ],
   "source": [
    "from nbdev.export import *\n",
    "notebook2script()"
   ]
  },
  {
   "cell_type": "code",
   "execution_count": null,
   "metadata": {},
   "outputs": [],
   "source": []
  }
 ],
 "metadata": {
  "kernelspec": {
   "display_name": "Python 3",
   "language": "python",
   "name": "python3"
  },
  "language_info": {
   "codemirror_mode": {
    "name": "ipython",
    "version": 3
   },
   "file_extension": ".py",
   "mimetype": "text/x-python",
   "name": "python",
   "nbconvert_exporter": "python",
   "pygments_lexer": "ipython3",
   "version": "3.7.7"
  }
 },
 "nbformat": 4,
 "nbformat_minor": 2
}
