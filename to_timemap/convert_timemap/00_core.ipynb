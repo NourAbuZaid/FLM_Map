{
 "cells": [
  {
   "cell_type": "code",
   "execution_count": 2,
   "metadata": {},
   "outputs": [],
   "source": [
    "# default_exp core"
   ]
  },
  {
   "cell_type": "markdown",
   "metadata": {},
   "source": [
    "# module name here\n",
    "\n",
    "> API details."
   ]
  },
  {
   "cell_type": "code",
   "execution_count": 3,
   "metadata": {},
   "outputs": [],
   "source": [
    "#export\n",
    "import json\n",
    "import xlsxwriter\n",
    "from datetime import datetime\n",
    "from fastscript import *"
   ]
  },
  {
   "cell_type": "code",
   "execution_count": 4,
   "metadata": {},
   "outputs": [],
   "source": [
    "#export\n",
    "DEFAULT_HEADERS = [\n",
    "    \"desc\",\n",
    "    \"date\",\n",
    "    \"time\",\n",
    "    \"latitude\",\n",
    "    \"longitude\"\n",
    "]"
   ]
  },
  {
   "cell_type": "code",
   "execution_count": 58,
   "metadata": {},
   "outputs": [],
   "source": [
    "#export\n",
    "def dt(d: str) -> datetime:\n",
    "    return datetime.strptime(d, '%Y-%m-%dT%H:%M:%SZ')\n",
    "\n",
    "def getDate(item: str) -> datetime:\n",
    "    lspt = item.get('lastSpotted')\n",
    "    if lspt is not None:\n",
    "        return dt(lspt)\n",
    "    startTime = item.get('startTime')\n",
    "    if startTime is not None:\n",
    "        return dt(startTime)\n",
    "    endTime = item.get('endTime')\n",
    "    if endTime is not None:\n",
    "        return dt(endTime)\n",
    "    raise Exception(\"JSON value doesn't have lastSpotted, startTime, or endTime\")\n",
    "    \n",
    "def from_fleming(jdata):\n",
    "    headers = DEFAULT_HEADERS\n",
    "    odata = []\n",
    "    for d in jdata:\n",
    "        thedate = getDate(d)\n",
    "        rdata = [\n",
    "            '0d1f5b02-3178-494b-a0c7-bbc171249e3f',\n",
    "            datetime.strftime(thedate, '%m/%d/%Y'),\n",
    "            datetime.strftime(thedate, '%H:%M:%S'),\n",
    "            d['coordinates']['lat'],\n",
    "            d['coordinates']['lon'],\n",
    "        ]\n",
    "        odata.append(rdata)\n",
    "\n",
    "    return headers, odata"
   ]
  },
  {
   "cell_type": "code",
   "execution_count": 59,
   "metadata": {},
   "outputs": [],
   "source": [
    "#export\n",
    "CONVERTER = from_fleming\n",
    "\n",
    "@call_parse\n",
    "def main(inp:Param(\"Input file\", str),\n",
    "         outp:Param(\"Output file\", str)=\"out.xlsx\"):\n",
    "    workbook = xlsxwriter.Workbook(outp)\n",
    "    worksheet = workbook.add_worksheet('export_events')\n",
    "\n",
    "    with open(inp, 'r') as f:\n",
    "        data = json.load(f)\n",
    "\n",
    "    conv_data = CONVERTER(data)\n",
    "    headers = conv_data[0]\n",
    "    row_data = conv_data[1]\n",
    "\n",
    "    row = 0\n",
    "    col = 0\n",
    "\n",
    "    for hdr in headers:\n",
    "        worksheet.write(row, col, hdr)\n",
    "        col += 1\n",
    "\n",
    "    row = 1\n",
    "    col = 0\n",
    "\n",
    "    for rdata in row_data:\n",
    "        col = 0\n",
    "        for cell in rdata:\n",
    "            worksheet.write(row, col, cell)\n",
    "            col += 1\n",
    "        row += 1\n",
    "\n",
    "    workbook.close()"
   ]
  },
  {
   "cell_type": "markdown",
   "metadata": {},
   "source": [
    "## Test\n",
    "Running on sample.json from notebook."
   ]
  },
  {
   "cell_type": "code",
   "execution_count": null,
   "metadata": {},
   "outputs": [],
   "source": [
    "import os\n",
    "from pathlib import Path\n",
    "samplef = Path(os.getcwd()).parents[0] / \"sample.json\"\n",
    "main(samplef)"
   ]
  },
  {
   "cell_type": "code",
   "execution_count": 7,
   "metadata": {},
   "outputs": [],
   "source": [
    "#hide\n",
    "from nbdev.showdoc import *"
   ]
  },
  {
   "cell_type": "code",
   "execution_count": 61,
   "metadata": {},
   "outputs": [
    {
     "name": "stdout",
     "output_type": "stream",
     "text": [
      "Converted 00_core.ipynb.\n",
      "Converted index.ipynb.\n"
     ]
    }
   ],
   "source": [
    "from nbdev.export import *\n",
    "notebook2script()"
   ]
  },
  {
   "cell_type": "code",
   "execution_count": null,
   "metadata": {},
   "outputs": [],
   "source": []
  }
 ],
 "metadata": {
  "kernelspec": {
   "display_name": "Python 3",
   "language": "python",
   "name": "python3"
  },
  "language_info": {
   "codemirror_mode": {
    "name": "ipython",
    "version": 3
   },
   "file_extension": ".py",
   "mimetype": "text/x-python",
   "name": "python",
   "nbconvert_exporter": "python",
   "pygments_lexer": "ipython3",
   "version": "3.7.7"
  }
 },
 "nbformat": 4,
 "nbformat_minor": 2
}
