{
 "cells": [
  {
   "cell_type": "code",
   "execution_count": null,
   "metadata": {},
   "outputs": [],
   "source": [
    "#hide\n",
    "from your_lib.core import *"
   ]
  },
  {
   "cell_type": "markdown",
   "metadata": {},
   "source": [
    "# Fleming/Timemap Experiments\n",
    "\n",
    "> Experiments visualizing a data dump (in a propietary JSON format) using [timemap](https://github.com/forensic-architecture/timemap). "
   ]
  },
  {
   "cell_type": "markdown",
   "metadata": {},
   "source": [
    "These files are not a library so much as a set of experiments. Should probably be viewed as Jupyter notebooks, and tweaked from there- but setup with [nbdev](https://github.com/fastai/nbdev) so that the scripts can be exported as well."
   ]
  },
  {
   "cell_type": "markdown",
   "metadata": {},
   "source": [
    "## Install"
   ]
  },
  {
   "cell_type": "markdown",
   "metadata": {},
   "source": [
    "The scripts in here essentially read from the data dumps, and generate the appropriate config files to spin up instances of timemap. Thus you need to both install the requirements in this repo, and set up local copies of timemap and datasheet-server:\n",
    "\n",
    "```bash\n",
    "poetry install\n",
    "mkdir temp\n",
    "cd temp\n",
    "git clone https://github.com/forensic-architecture/timemap\n",
    "git clone https://github.com/forensic-architecture/datasheet-server\n",
    "```"
   ]
  },
  {
   "cell_type": "markdown",
   "metadata": {},
   "source": [
    "## How to use"
   ]
  },
  {
   "cell_type": "markdown",
   "metadata": {},
   "source": [
    "Open up the 00_core notebook for the main code. At the end of that file there are examples."
   ]
  },
  {
   "cell_type": "code",
   "execution_count": null,
   "metadata": {},
   "outputs": [],
   "source": []
  }
 ],
 "metadata": {
  "kernelspec": {
   "display_name": "Python 3",
   "language": "python",
   "name": "python3"
  },
  "language_info": {
   "codemirror_mode": {
    "name": "ipython",
    "version": 3
   },
   "file_extension": ".py",
   "mimetype": "text/x-python",
   "name": "python",
   "nbconvert_exporter": "python",
   "pygments_lexer": "ipython3",
   "version": "3.7.7"
  }
 },
 "nbformat": 4,
 "nbformat_minor": 2
}
