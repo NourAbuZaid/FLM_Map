{
 "cells": [
  {
   "cell_type": "code",
   "execution_count": null,
   "metadata": {},
   "outputs": [],
   "source": [
    "# default_exp statistics"
   ]
  },
  {
   "cell_type": "code",
   "execution_count": 17,
   "metadata": {},
   "outputs": [
    {
     "name": "stdout",
     "output_type": "stream",
     "text": [
      "The autoreload extension is already loaded. To reload it, use:\n",
      "  %reload_ext autoreload\n"
     ]
    }
   ],
   "source": [
    "%load_ext autoreload\n",
    "%autoreload 2\n",
    "%matplotlib inline"
   ]
  },
  {
   "cell_type": "markdown",
   "metadata": {},
   "source": [
    "# Preprocess"
   ]
  },
  {
   "cell_type": "code",
   "execution_count": 2,
   "metadata": {},
   "outputs": [],
   "source": [
    "from convert_timemap.core import get_files\n",
    "fs = get_files(head=None)"
   ]
  },
  {
   "cell_type": "code",
   "execution_count": 3,
   "metadata": {},
   "outputs": [
    {
     "name": "stderr",
     "output_type": "stream",
     "text": [
      "100%|██████████| 31925/31925 [1:13:54<00:00,  7.20it/s]\n"
     ]
    }
   ],
   "source": [
    "import os\n",
    "import pandas as pd\n",
    "from tqdm import tqdm\n",
    "\n",
    "df = pd.DataFrame()\n",
    "# fs.sort(key=os.path.getsize, reverse=True)\n",
    "\n",
    "for f in tqdm(fs):\n",
    "    with open(f) as js:\n",
    "        data = pd.read_json(js)\n",
    "        df = df.append(data, ignore_index=True)"
   ]
  },
  {
   "cell_type": "code",
   "execution_count": null,
   "metadata": {},
   "outputs": [],
   "source": [
    "df.to_pickle('./all.pkl')"
   ]
  },
  {
   "cell_type": "markdown",
   "metadata": {},
   "source": [
    "### if you already have the pkl, don't run the above! it will take a while. uncomment the lines below instead"
   ]
  },
  {
   "cell_type": "code",
   "execution_count": 2,
   "metadata": {},
   "outputs": [],
   "source": [
    "import pickle\n",
    "with open('all.pkl', 'rb') as f:\n",
    "    df = pickle.load(f)"
   ]
  },
  {
   "cell_type": "code",
   "execution_count": 3,
   "metadata": {},
   "outputs": [
    {
     "data": {
      "text/plain": [
       "0     {'lat': 26.229584, 'lon': 50.496015}\n",
       "1        {'lat': 26.1567, 'lon': 50.66749}\n",
       "2       {'lat': 26.14344, 'lon': 50.60415}\n",
       "3       {'lat': 26.11736, 'lon': 50.63323}\n",
       "4        {'lat': 26.1567, 'lon': 50.66749}\n",
       "                      ...                 \n",
       "95    {'lat': 26.284306, 'lon': 50.629184}\n",
       "96    {'lat': 26.284306, 'lon': 50.629184}\n",
       "97    {'lat': 26.284306, 'lon': 50.629184}\n",
       "98    {'lat': 26.284306, 'lon': 50.629184}\n",
       "99    {'lat': 26.284306, 'lon': 50.629184}\n",
       "Name: coordinates, Length: 100, dtype: object"
      ]
     },
     "execution_count": 3,
     "metadata": {},
     "output_type": "execute_result"
    }
   ],
   "source": [
    "df['coordinates'].head(100)"
   ]
  },
  {
   "cell_type": "markdown",
   "metadata": {},
   "source": [
    "# Analysis"
   ]
  },
  {
   "cell_type": "code",
   "execution_count": null,
   "metadata": {},
   "outputs": [],
   "source": [
    "import matplotlib.pyplot as plt\n",
    "import seaborn as sns\n",
    "sns.set(style=\"darkgrid\")"
   ]
  },
  {
   "cell_type": "code",
   "execution_count": 21,
   "metadata": {},
   "outputs": [
    {
     "data": {
      "text/plain": [
       "Index(['targetId', 'investigationId', 'coordinates', 'locationType',\n",
       "       'lastSpotted', 'startTime', 'endTime'],\n",
       "      dtype='object')"
      ]
     },
     "execution_count": 21,
     "metadata": {},
     "output_type": "execute_result"
    }
   ],
   "source": [
    "df.columns"
   ]
  },
  {
   "cell_type": "markdown",
   "metadata": {},
   "source": [
    "## Number of points per target"
   ]
  },
  {
   "cell_type": "code",
   "execution_count": 44,
   "metadata": {},
   "outputs": [
    {
     "name": "stdout",
     "output_type": "stream",
     "text": [
      "Total number of points: 564282\n",
      "Number of targets: 31925\n",
      "Mean: 17.67523884103367\n",
      "Mode: 0    1\n",
      "dtype: int64\n",
      "Median: 4.0\n",
      "Standard deviation: 76.78930513861103\n"
     ]
    }
   ],
   "source": [
    "print(f\"Total number of points: {len(df)}\")\n",
    "\n",
    "targets = df['targetId'].value_counts()\n",
    "print(f\"Number of targets: {len(vcs_all)}\")\n",
    "print(f\"Mean: {targets.mean()}\")\n",
    "print(f\"Mode: {targets.mode()}\")\n",
    "print(f\"Median: {targets.median()}\")\n",
    "print(f\"Standard deviation: {targets.std()}\")"
   ]
  },
  {
   "cell_type": "code",
   "execution_count": 48,
   "metadata": {},
   "outputs": [
    {
     "data": {
      "text/plain": [
       "<matplotlib.axes._subplots.AxesSubplot at 0x16bb6b410>"
      ]
     },
     "execution_count": 48,
     "metadata": {},
     "output_type": "execute_result"
    },
    {
     "data": {
      "image/png": "[encoded data removed]",
      "text/plain": [
       "<Figure size 432x288 with 1 Axes>"
      ]
     },
     "metadata": {
      "needs_background": "light"
     },
     "output_type": "display_data"
    }
   ],
   "source": [
    "targets.plot(kind=\"line\")"
   ]
  },
  {
   "cell_type": "code",
   "execution_count": 60,
   "metadata": {},
   "outputs": [
    {
     "data": {
      "text/plain": [
       "20"
      ]
     },
     "execution_count": 60,
     "metadata": {},
     "output_type": "execute_result"
    }
   ],
   "source": [
    "targets.head(5000)[-1]"
   ]
  },
  {
   "cell_type": "markdown",
   "metadata": {},
   "source": [
    "Take out the top 5000 targets, and all other ~27k targets have 20 or less points."
   ]
  },
  {
   "cell_type": "code",
   "execution_count": 63,
   "metadata": {},
   "outputs": [
    {
     "name": "stdout",
     "output_type": "stream",
     "text": [
      "Top target has 4754 points\n"
     ]
    }
   ],
   "source": [
    "print(f\"Top target has {targets[0]} points\")"
   ]
  },
  {
   "cell_type": "code",
   "execution_count": 91,
   "metadata": {},
   "outputs": [],
   "source": [
    "top5k = targets.head(5000)\n",
    "top5k = top5k.to_frame()\n",
    "top5k['noPoints'] = top5k['targetId']\n",
    "top5k['targetId'] = top5k.index\n",
    "top5k = top5k.reset_index(drop=True)"
   ]
  },
  {
   "cell_type": "code",
   "execution_count": 109,
   "metadata": {},
   "outputs": [
    {
     "data": {
      "text/plain": [
       "<matplotlib.axes._subplots.AxesSubplot at 0x149b7b090>"
      ]
     },
     "execution_count": 109,
     "metadata": {},
     "output_type": "execute_result"
    },
    {
     "data": {
      "image/png": "[encoded data removed]",
      "text/plain": [
       "<Figure size 432x288 with 1 Axes>"
      ]
     },
     "metadata": {
      "needs_background": "light"
     },
     "output_type": "display_data"
    }
   ],
   "source": [
    "sns.lineplot(data=top5k['noPoints'])"
   ]
  },
  {
   "cell_type": "code",
   "execution_count": 111,
   "metadata": {},
   "outputs": [
    {
     "name": "stdout",
     "output_type": "stream",
     "text": [
      "                                targetId  noPoints\n",
      "99  4aaa26fd-6ad4-4d4f-a230-569de0af373a       548\n"
     ]
    },
    {
     "data": {
      "text/plain": [
       "<matplotlib.axes._subplots.AxesSubplot at 0x14a482050>"
      ]
     },
     "execution_count": 111,
     "metadata": {},
     "output_type": "execute_result"
    },
    {
     "data": {
      "image/png": "[encoded data removed]",
      "text/plain": [
       "<Figure size 432x288 with 1 Axes>"
      ]
     },
     "metadata": {
      "needs_background": "light"
     },
     "output_type": "display_data"
    }
   ],
   "source": [
    "top100 = top5k.head(100)\n",
    "print(top100.tail(1))\n",
    "sns.lineplot(data=top100['noPoints'])"
   ]
  },
  {
   "cell_type": "code",
   "execution_count": 107,
   "metadata": {},
   "outputs": [
    {
     "data": {
      "text/plain": [
       "<matplotlib.axes._subplots.AxesSubplot at 0x149ae6550>"
      ]
     },
     "execution_count": 107,
     "metadata": {},
     "output_type": "execute_result"
    },
    {
     "data": {
      "image/png": "[encoded data removed]",
      "text/plain": [
       "<Figure size 432x288 with 1 Axes>"
      ]
     },
     "metadata": {
      "needs_background": "light"
     },
     "output_type": "display_data"
    }
   ],
   "source": [
    "top5kless100 = top5k[100:]\n",
    "sns.lineplot(data=top5kless100['noPoints'])"
   ]
  },
  {
   "cell_type": "code",
   "execution_count": 108,
   "metadata": {},
   "outputs": [
    {
     "data": {
      "text/plain": [
       "<matplotlib.axes._subplots.AxesSubplot at 0x149b553d0>"
      ]
     },
     "execution_count": 108,
     "metadata": {},
     "output_type": "execute_result"
    },
    {
     "data": {
      "image/png": "[encoded data removed]",
      "text/plain": [
       "<Figure size 432x288 with 1 Axes>"
      ]
     },
     "metadata": {
      "needs_background": "light"
     },
     "output_type": "display_data"
    }
   ],
   "source": [
    "top1kless100 = top5kless100[:1000]\n",
    "sns.lineplot(data=top1kless100['noPoints'])"
   ]
  },
  {
   "cell_type": "markdown",
   "metadata": {},
   "source": [
    "## Pruning heavies"
   ]
  },
  {
   "cell_type": "code",
   "execution_count": 167,
   "metadata": {},
   "outputs": [
    {
     "data": {
      "text/html": [
       "<div>\n",
       "<style scoped>\n",
       "    .dataframe tbody tr th:only-of-type {\n",
       "        vertical-align: middle;\n",
       "    }\n",
       "\n",
       "    .dataframe tbody tr th {\n",
       "        vertical-align: top;\n",
       "    }\n",
       "\n",
       "    .dataframe thead th {\n",
       "        text-align: right;\n",
       "    }\n",
       "</style>\n",
       "<table border=\"1\" class=\"dataframe\">\n",
       "  <thead>\n",
       "    <tr style=\"text-align: right;\">\n",
       "      <th></th>\n",
       "      <th>targetId</th>\n",
       "      <th>noPoints</th>\n",
       "    </tr>\n",
       "  </thead>\n",
       "  <tbody>\n",
       "    <tr>\n",
       "      <th>100</th>\n",
       "      <td>fb395fc2-7dc4-4cb8-bd11-26aba9fde301</td>\n",
       "      <td>548</td>\n",
       "    </tr>\n",
       "    <tr>\n",
       "      <th>101</th>\n",
       "      <td>ab189089-e842-43ba-b287-0db28b5b2a15</td>\n",
       "      <td>545</td>\n",
       "    </tr>\n",
       "    <tr>\n",
       "      <th>102</th>\n",
       "      <td>3adc3050-cca5-4af7-845a-04863c37cf5d</td>\n",
       "      <td>540</td>\n",
       "    </tr>\n",
       "    <tr>\n",
       "      <th>103</th>\n",
       "      <td>3859510b-3f89-43a4-8989-66a9b1066bf1</td>\n",
       "      <td>538</td>\n",
       "    </tr>\n",
       "    <tr>\n",
       "      <th>104</th>\n",
       "      <td>feb3aaf8-5b35-4afc-bfef-55c9632b44b1</td>\n",
       "      <td>532</td>\n",
       "    </tr>\n",
       "    <tr>\n",
       "      <th>...</th>\n",
       "      <td>...</td>\n",
       "      <td>...</td>\n",
       "    </tr>\n",
       "    <tr>\n",
       "      <th>1095</th>\n",
       "      <td>08748ee3-3ade-4bba-a2d9-0da53ef5b666</td>\n",
       "      <td>79</td>\n",
       "    </tr>\n",
       "    <tr>\n",
       "      <th>1096</th>\n",
       "      <td>269c74c8-c5fe-4d93-827b-5c4ad2859db7</td>\n",
       "      <td>79</td>\n",
       "    </tr>\n",
       "    <tr>\n",
       "      <th>1097</th>\n",
       "      <td>f60aabcb-e005-4ae1-9155-22defd7b2c26</td>\n",
       "      <td>79</td>\n",
       "    </tr>\n",
       "    <tr>\n",
       "      <th>1098</th>\n",
       "      <td>3911eb69-0db5-4152-a377-ea6c2ddfb705</td>\n",
       "      <td>79</td>\n",
       "    </tr>\n",
       "    <tr>\n",
       "      <th>1099</th>\n",
       "      <td>7253b946-b916-45ba-b620-e0b5de822cdd</td>\n",
       "      <td>79</td>\n",
       "    </tr>\n",
       "  </tbody>\n",
       "</table>\n",
       "<p>1000 rows × 2 columns</p>\n",
       "</div>"
      ],
      "text/plain": [
       "                                  targetId  noPoints\n",
       "100   fb395fc2-7dc4-4cb8-bd11-26aba9fde301       548\n",
       "101   ab189089-e842-43ba-b287-0db28b5b2a15       545\n",
       "102   3adc3050-cca5-4af7-845a-04863c37cf5d       540\n",
       "103   3859510b-3f89-43a4-8989-66a9b1066bf1       538\n",
       "104   feb3aaf8-5b35-4afc-bfef-55c9632b44b1       532\n",
       "...                                    ...       ...\n",
       "1095  08748ee3-3ade-4bba-a2d9-0da53ef5b666        79\n",
       "1096  269c74c8-c5fe-4d93-827b-5c4ad2859db7        79\n",
       "1097  f60aabcb-e005-4ae1-9155-22defd7b2c26        79\n",
       "1098  3911eb69-0db5-4152-a377-ea6c2ddfb705        79\n",
       "1099  7253b946-b916-45ba-b620-e0b5de822cdd        79\n",
       "\n",
       "[1000 rows x 2 columns]"
      ]
     },
     "execution_count": 167,
     "metadata": {},
     "output_type": "execute_result"
    }
   ],
   "source": [
    "top1kless100"
   ]
  },
  {
   "cell_type": "markdown",
   "metadata": {},
   "source": [
    "## Timeframe"
   ]
  },
  {
   "cell_type": "code",
   "execution_count": 125,
   "metadata": {},
   "outputs": [],
   "source": [
    "from convert_timemap.core import dt\n",
    "\n",
    "startTimes, endTimes = df['startTime'], df['endTime']\n",
    "startTimes, endTimes = startTimes.dropna(), endTimes.dropna()\n",
    "minDate, maxDate = dt(startTimes.min()), dt(endTimes.max())"
   ]
  },
  {
   "cell_type": "code",
   "execution_count": 129,
   "metadata": {},
   "outputs": [],
   "source": [
    "def nice_date(thedate):\n",
    "    return datetime.strftime(thedate, '%m/%d/%Y')"
   ]
  },
  {
   "cell_type": "code",
   "execution_count": 130,
   "metadata": {},
   "outputs": [
    {
     "data": {
      "text/plain": [
       "('03/10/2020', '04/13/2020')"
      ]
     },
     "execution_count": 130,
     "metadata": {},
     "output_type": "execute_result"
    }
   ],
   "source": [
    "nice_date(minDate), nice_date(maxDate)"
   ]
  },
  {
   "cell_type": "code",
   "execution_count": 162,
   "metadata": {},
   "outputs": [
    {
     "name": "stderr",
     "output_type": "stream",
     "text": [
      "/Users/lachlankermode/Library/Caches/pypoetry/virtualenvs/to-timemap-py3.7/lib/python3.7/site-packages/ipykernel_launcher.py:5: SettingWithCopyWarning: \n",
      "A value is trying to be set on a copy of a slice from a DataFrame\n",
      "\n",
      "See the caveats in the documentation: https://pandas.pydata.org/pandas-docs/stable/user_guide/indexing.html#returning-a-view-versus-a-copy\n",
      "  \"\"\"\n"
     ]
    }
   ],
   "source": [
    "import numpy as np\n",
    "\n",
    "newdf = df.copy()\n",
    "newdf['timestamp'] = np.nan\n",
    "newdf['timestamp'][pd.notnull(newdf['startTime'])] = newdf['startTime']\n",
    "newdf['timestamp'][pd.notnull(newdf['lastSpotted'])] = newdf['lastSpotted']\n",
    "\n",
    "def ext(key):\n",
    "    def t(obj):\n",
    "        return obj[key]\n",
    "    return t\n",
    "newdf['latitude'] = newdf['coordinates'].apply(ext('lat'))\n",
    "newdf['longitude'] = newdf['coordinates'].apply(ext('lon'))\n",
    "\n",
    "newdf = newdf.drop(columns=['startTime', 'endTime', 'lastSpotted', 'coordinates'])"
   ]
  },
  {
   "cell_type": "code",
   "execution_count": 165,
   "metadata": {},
   "outputs": [
    {
     "data": {
      "text/html": [
       "<div>\n",
       "<style scoped>\n",
       "    .dataframe tbody tr th:only-of-type {\n",
       "        vertical-align: middle;\n",
       "    }\n",
       "\n",
       "    .dataframe tbody tr th {\n",
       "        vertical-align: top;\n",
       "    }\n",
       "\n",
       "    .dataframe thead th {\n",
       "        text-align: right;\n",
       "    }\n",
       "</style>\n",
       "<table border=\"1\" class=\"dataframe\">\n",
       "  <thead>\n",
       "    <tr style=\"text-align: right;\">\n",
       "      <th></th>\n",
       "      <th>t__023d53ad-9f4b-4416-ba71-f8a728188f71</th>\n",
       "      <th>t__030e5172-5c70-4e86-be6a-e8f90ff0a9e1</th>\n",
       "      <th>t__0b8288bc-ee91-420b-a96b-3535a388ebb1</th>\n",
       "      <th>t__0df7f932-7a9a-4be4-835d-1540fdb0be18</th>\n",
       "      <th>t__0eba492e-3e06-47b3-a648-902c023e0771</th>\n",
       "      <th>t__0ff124a8-576f-48b5-8f8f-6884a7aeb9fd</th>\n",
       "      <th>t__1170dad0-aff7-44a8-8a9f-4d6bda781ba6</th>\n",
       "      <th>t__156295d6-c75c-4603-9f39-a8417163283e</th>\n",
       "      <th>t__16cebca1-64ef-46f2-b2ee-12b32be27db8</th>\n",
       "      <th>t__16d965f0-eb6a-45bb-9cfc-d1ac0f2ab0db</th>\n",
       "      <th>...</th>\n",
       "      <th>t__e34e5ddf-b33f-415e-a954-2f0e0896acaf</th>\n",
       "      <th>t__e4cd1e36-b00d-41e7-b3b8-db407d80c79d</th>\n",
       "      <th>t__eb8e9802-a961-406b-a928-4de263e97624</th>\n",
       "      <th>t__ec6b6960-9180-4a83-a565-5e6f4f70ad2e</th>\n",
       "      <th>t__ed039980-beca-4757-a076-2decb9631452</th>\n",
       "      <th>t__f8bad9f1-b6a1-4cbb-a3d8-698bb9464126</th>\n",
       "      <th>t__f924bece-1fc1-42bf-b22c-194288b30f63</th>\n",
       "      <th>t__faaa422f-bf27-4d36-a7a7-dea6f6972d10</th>\n",
       "      <th>t__fbee95be-846c-4fc1-92b9-c2075821f036</th>\n",
       "      <th>t__fd57dd3e-da67-4b14-9f46-8c5aabe54e8a</th>\n",
       "    </tr>\n",
       "  </thead>\n",
       "  <tbody>\n",
       "    <tr>\n",
       "      <th>123256</th>\n",
       "      <td>0</td>\n",
       "      <td>0</td>\n",
       "      <td>0</td>\n",
       "      <td>0</td>\n",
       "      <td>0</td>\n",
       "      <td>0</td>\n",
       "      <td>0</td>\n",
       "      <td>0</td>\n",
       "      <td>0</td>\n",
       "      <td>0</td>\n",
       "      <td>...</td>\n",
       "      <td>0</td>\n",
       "      <td>0</td>\n",
       "      <td>0</td>\n",
       "      <td>0</td>\n",
       "      <td>0</td>\n",
       "      <td>0</td>\n",
       "      <td>0</td>\n",
       "      <td>1</td>\n",
       "      <td>0</td>\n",
       "      <td>0</td>\n",
       "    </tr>\n",
       "    <tr>\n",
       "      <th>510065</th>\n",
       "      <td>0</td>\n",
       "      <td>0</td>\n",
       "      <td>0</td>\n",
       "      <td>0</td>\n",
       "      <td>0</td>\n",
       "      <td>0</td>\n",
       "      <td>0</td>\n",
       "      <td>0</td>\n",
       "      <td>0</td>\n",
       "      <td>0</td>\n",
       "      <td>...</td>\n",
       "      <td>0</td>\n",
       "      <td>0</td>\n",
       "      <td>0</td>\n",
       "      <td>0</td>\n",
       "      <td>0</td>\n",
       "      <td>0</td>\n",
       "      <td>0</td>\n",
       "      <td>0</td>\n",
       "      <td>0</td>\n",
       "      <td>0</td>\n",
       "    </tr>\n",
       "    <tr>\n",
       "      <th>61215</th>\n",
       "      <td>0</td>\n",
       "      <td>0</td>\n",
       "      <td>0</td>\n",
       "      <td>0</td>\n",
       "      <td>0</td>\n",
       "      <td>0</td>\n",
       "      <td>0</td>\n",
       "      <td>0</td>\n",
       "      <td>0</td>\n",
       "      <td>0</td>\n",
       "      <td>...</td>\n",
       "      <td>0</td>\n",
       "      <td>0</td>\n",
       "      <td>0</td>\n",
       "      <td>0</td>\n",
       "      <td>0</td>\n",
       "      <td>0</td>\n",
       "      <td>0</td>\n",
       "      <td>0</td>\n",
       "      <td>0</td>\n",
       "      <td>1</td>\n",
       "    </tr>\n",
       "    <tr>\n",
       "      <th>43166</th>\n",
       "      <td>0</td>\n",
       "      <td>0</td>\n",
       "      <td>0</td>\n",
       "      <td>0</td>\n",
       "      <td>0</td>\n",
       "      <td>0</td>\n",
       "      <td>0</td>\n",
       "      <td>0</td>\n",
       "      <td>0</td>\n",
       "      <td>0</td>\n",
       "      <td>...</td>\n",
       "      <td>0</td>\n",
       "      <td>0</td>\n",
       "      <td>0</td>\n",
       "      <td>0</td>\n",
       "      <td>0</td>\n",
       "      <td>0</td>\n",
       "      <td>0</td>\n",
       "      <td>0</td>\n",
       "      <td>0</td>\n",
       "      <td>0</td>\n",
       "    </tr>\n",
       "    <tr>\n",
       "      <th>189430</th>\n",
       "      <td>0</td>\n",
       "      <td>0</td>\n",
       "      <td>0</td>\n",
       "      <td>0</td>\n",
       "      <td>0</td>\n",
       "      <td>0</td>\n",
       "      <td>0</td>\n",
       "      <td>0</td>\n",
       "      <td>0</td>\n",
       "      <td>1</td>\n",
       "      <td>...</td>\n",
       "      <td>0</td>\n",
       "      <td>0</td>\n",
       "      <td>0</td>\n",
       "      <td>0</td>\n",
       "      <td>0</td>\n",
       "      <td>0</td>\n",
       "      <td>0</td>\n",
       "      <td>0</td>\n",
       "      <td>0</td>\n",
       "      <td>0</td>\n",
       "    </tr>\n",
       "    <tr>\n",
       "      <th>...</th>\n",
       "      <td>...</td>\n",
       "      <td>...</td>\n",
       "      <td>...</td>\n",
       "      <td>...</td>\n",
       "      <td>...</td>\n",
       "      <td>...</td>\n",
       "      <td>...</td>\n",
       "      <td>...</td>\n",
       "      <td>...</td>\n",
       "      <td>...</td>\n",
       "      <td>...</td>\n",
       "      <td>...</td>\n",
       "      <td>...</td>\n",
       "      <td>...</td>\n",
       "      <td>...</td>\n",
       "      <td>...</td>\n",
       "      <td>...</td>\n",
       "      <td>...</td>\n",
       "      <td>...</td>\n",
       "      <td>...</td>\n",
       "      <td>...</td>\n",
       "    </tr>\n",
       "    <tr>\n",
       "      <th>205821</th>\n",
       "      <td>0</td>\n",
       "      <td>0</td>\n",
       "      <td>0</td>\n",
       "      <td>0</td>\n",
       "      <td>0</td>\n",
       "      <td>0</td>\n",
       "      <td>0</td>\n",
       "      <td>0</td>\n",
       "      <td>0</td>\n",
       "      <td>0</td>\n",
       "      <td>...</td>\n",
       "      <td>0</td>\n",
       "      <td>0</td>\n",
       "      <td>0</td>\n",
       "      <td>0</td>\n",
       "      <td>0</td>\n",
       "      <td>0</td>\n",
       "      <td>0</td>\n",
       "      <td>0</td>\n",
       "      <td>0</td>\n",
       "      <td>0</td>\n",
       "    </tr>\n",
       "    <tr>\n",
       "      <th>46177</th>\n",
       "      <td>0</td>\n",
       "      <td>0</td>\n",
       "      <td>0</td>\n",
       "      <td>0</td>\n",
       "      <td>0</td>\n",
       "      <td>0</td>\n",
       "      <td>0</td>\n",
       "      <td>0</td>\n",
       "      <td>0</td>\n",
       "      <td>0</td>\n",
       "      <td>...</td>\n",
       "      <td>0</td>\n",
       "      <td>0</td>\n",
       "      <td>0</td>\n",
       "      <td>0</td>\n",
       "      <td>0</td>\n",
       "      <td>0</td>\n",
       "      <td>0</td>\n",
       "      <td>0</td>\n",
       "      <td>0</td>\n",
       "      <td>0</td>\n",
       "    </tr>\n",
       "    <tr>\n",
       "      <th>261342</th>\n",
       "      <td>0</td>\n",
       "      <td>0</td>\n",
       "      <td>0</td>\n",
       "      <td>0</td>\n",
       "      <td>0</td>\n",
       "      <td>0</td>\n",
       "      <td>0</td>\n",
       "      <td>0</td>\n",
       "      <td>0</td>\n",
       "      <td>0</td>\n",
       "      <td>...</td>\n",
       "      <td>0</td>\n",
       "      <td>0</td>\n",
       "      <td>0</td>\n",
       "      <td>0</td>\n",
       "      <td>0</td>\n",
       "      <td>0</td>\n",
       "      <td>0</td>\n",
       "      <td>0</td>\n",
       "      <td>0</td>\n",
       "      <td>0</td>\n",
       "    </tr>\n",
       "    <tr>\n",
       "      <th>9898</th>\n",
       "      <td>0</td>\n",
       "      <td>0</td>\n",
       "      <td>0</td>\n",
       "      <td>0</td>\n",
       "      <td>0</td>\n",
       "      <td>0</td>\n",
       "      <td>0</td>\n",
       "      <td>0</td>\n",
       "      <td>0</td>\n",
       "      <td>0</td>\n",
       "      <td>...</td>\n",
       "      <td>0</td>\n",
       "      <td>1</td>\n",
       "      <td>0</td>\n",
       "      <td>0</td>\n",
       "      <td>0</td>\n",
       "      <td>0</td>\n",
       "      <td>0</td>\n",
       "      <td>0</td>\n",
       "      <td>0</td>\n",
       "      <td>0</td>\n",
       "    </tr>\n",
       "    <tr>\n",
       "      <th>433719</th>\n",
       "      <td>0</td>\n",
       "      <td>0</td>\n",
       "      <td>0</td>\n",
       "      <td>0</td>\n",
       "      <td>0</td>\n",
       "      <td>0</td>\n",
       "      <td>0</td>\n",
       "      <td>0</td>\n",
       "      <td>0</td>\n",
       "      <td>0</td>\n",
       "      <td>...</td>\n",
       "      <td>0</td>\n",
       "      <td>0</td>\n",
       "      <td>0</td>\n",
       "      <td>0</td>\n",
       "      <td>0</td>\n",
       "      <td>0</td>\n",
       "      <td>0</td>\n",
       "      <td>0</td>\n",
       "      <td>0</td>\n",
       "      <td>0</td>\n",
       "    </tr>\n",
       "  </tbody>\n",
       "</table>\n",
       "<p>100 rows × 95 columns</p>\n",
       "</div>"
      ],
      "text/plain": [
       "        t__023d53ad-9f4b-4416-ba71-f8a728188f71  \\\n",
       "123256                                        0   \n",
       "510065                                        0   \n",
       "61215                                         0   \n",
       "43166                                         0   \n",
       "189430                                        0   \n",
       "...                                         ...   \n",
       "205821                                        0   \n",
       "46177                                         0   \n",
       "261342                                        0   \n",
       "9898                                          0   \n",
       "433719                                        0   \n",
       "\n",
       "        t__030e5172-5c70-4e86-be6a-e8f90ff0a9e1  \\\n",
       "123256                                        0   \n",
       "510065                                        0   \n",
       "61215                                         0   \n",
       "43166                                         0   \n",
       "189430                                        0   \n",
       "...                                         ...   \n",
       "205821                                        0   \n",
       "46177                                         0   \n",
       "261342                                        0   \n",
       "9898                                          0   \n",
       "433719                                        0   \n",
       "\n",
       "        t__0b8288bc-ee91-420b-a96b-3535a388ebb1  \\\n",
       "123256                                        0   \n",
       "510065                                        0   \n",
       "61215                                         0   \n",
       "43166                                         0   \n",
       "189430                                        0   \n",
       "...                                         ...   \n",
       "205821                                        0   \n",
       "46177                                         0   \n",
       "261342                                        0   \n",
       "9898                                          0   \n",
       "433719                                        0   \n",
       "\n",
       "        t__0df7f932-7a9a-4be4-835d-1540fdb0be18  \\\n",
       "123256                                        0   \n",
       "510065                                        0   \n",
       "61215                                         0   \n",
       "43166                                         0   \n",
       "189430                                        0   \n",
       "...                                         ...   \n",
       "205821                                        0   \n",
       "46177                                         0   \n",
       "261342                                        0   \n",
       "9898                                          0   \n",
       "433719                                        0   \n",
       "\n",
       "        t__0eba492e-3e06-47b3-a648-902c023e0771  \\\n",
       "123256                                        0   \n",
       "510065                                        0   \n",
       "61215                                         0   \n",
       "43166                                         0   \n",
       "189430                                        0   \n",
       "...                                         ...   \n",
       "205821                                        0   \n",
       "46177                                         0   \n",
       "261342                                        0   \n",
       "9898                                          0   \n",
       "433719                                        0   \n",
       "\n",
       "        t__0ff124a8-576f-48b5-8f8f-6884a7aeb9fd  \\\n",
       "123256                                        0   \n",
       "510065                                        0   \n",
       "61215                                         0   \n",
       "43166                                         0   \n",
       "189430                                        0   \n",
       "...                                         ...   \n",
       "205821                                        0   \n",
       "46177                                         0   \n",
       "261342                                        0   \n",
       "9898                                          0   \n",
       "433719                                        0   \n",
       "\n",
       "        t__1170dad0-aff7-44a8-8a9f-4d6bda781ba6  \\\n",
       "123256                                        0   \n",
       "510065                                        0   \n",
       "61215                                         0   \n",
       "43166                                         0   \n",
       "189430                                        0   \n",
       "...                                         ...   \n",
       "205821                                        0   \n",
       "46177                                         0   \n",
       "261342                                        0   \n",
       "9898                                          0   \n",
       "433719                                        0   \n",
       "\n",
       "        t__156295d6-c75c-4603-9f39-a8417163283e  \\\n",
       "123256                                        0   \n",
       "510065                                        0   \n",
       "61215                                         0   \n",
       "43166                                         0   \n",
       "189430                                        0   \n",
       "...                                         ...   \n",
       "205821                                        0   \n",
       "46177                                         0   \n",
       "261342                                        0   \n",
       "9898                                          0   \n",
       "433719                                        0   \n",
       "\n",
       "        t__16cebca1-64ef-46f2-b2ee-12b32be27db8  \\\n",
       "123256                                        0   \n",
       "510065                                        0   \n",
       "61215                                         0   \n",
       "43166                                         0   \n",
       "189430                                        0   \n",
       "...                                         ...   \n",
       "205821                                        0   \n",
       "46177                                         0   \n",
       "261342                                        0   \n",
       "9898                                          0   \n",
       "433719                                        0   \n",
       "\n",
       "        t__16d965f0-eb6a-45bb-9cfc-d1ac0f2ab0db  ...  \\\n",
       "123256                                        0  ...   \n",
       "510065                                        0  ...   \n",
       "61215                                         0  ...   \n",
       "43166                                         0  ...   \n",
       "189430                                        1  ...   \n",
       "...                                         ...  ...   \n",
       "205821                                        0  ...   \n",
       "46177                                         0  ...   \n",
       "261342                                        0  ...   \n",
       "9898                                          0  ...   \n",
       "433719                                        0  ...   \n",
       "\n",
       "        t__e34e5ddf-b33f-415e-a954-2f0e0896acaf  \\\n",
       "123256                                        0   \n",
       "510065                                        0   \n",
       "61215                                         0   \n",
       "43166                                         0   \n",
       "189430                                        0   \n",
       "...                                         ...   \n",
       "205821                                        0   \n",
       "46177                                         0   \n",
       "261342                                        0   \n",
       "9898                                          0   \n",
       "433719                                        0   \n",
       "\n",
       "        t__e4cd1e36-b00d-41e7-b3b8-db407d80c79d  \\\n",
       "123256                                        0   \n",
       "510065                                        0   \n",
       "61215                                         0   \n",
       "43166                                         0   \n",
       "189430                                        0   \n",
       "...                                         ...   \n",
       "205821                                        0   \n",
       "46177                                         0   \n",
       "261342                                        0   \n",
       "9898                                          1   \n",
       "433719                                        0   \n",
       "\n",
       "        t__eb8e9802-a961-406b-a928-4de263e97624  \\\n",
       "123256                                        0   \n",
       "510065                                        0   \n",
       "61215                                         0   \n",
       "43166                                         0   \n",
       "189430                                        0   \n",
       "...                                         ...   \n",
       "205821                                        0   \n",
       "46177                                         0   \n",
       "261342                                        0   \n",
       "9898                                          0   \n",
       "433719                                        0   \n",
       "\n",
       "        t__ec6b6960-9180-4a83-a565-5e6f4f70ad2e  \\\n",
       "123256                                        0   \n",
       "510065                                        0   \n",
       "61215                                         0   \n",
       "43166                                         0   \n",
       "189430                                        0   \n",
       "...                                         ...   \n",
       "205821                                        0   \n",
       "46177                                         0   \n",
       "261342                                        0   \n",
       "9898                                          0   \n",
       "433719                                        0   \n",
       "\n",
       "        t__ed039980-beca-4757-a076-2decb9631452  \\\n",
       "123256                                        0   \n",
       "510065                                        0   \n",
       "61215                                         0   \n",
       "43166                                         0   \n",
       "189430                                        0   \n",
       "...                                         ...   \n",
       "205821                                        0   \n",
       "46177                                         0   \n",
       "261342                                        0   \n",
       "9898                                          0   \n",
       "433719                                        0   \n",
       "\n",
       "        t__f8bad9f1-b6a1-4cbb-a3d8-698bb9464126  \\\n",
       "123256                                        0   \n",
       "510065                                        0   \n",
       "61215                                         0   \n",
       "43166                                         0   \n",
       "189430                                        0   \n",
       "...                                         ...   \n",
       "205821                                        0   \n",
       "46177                                         0   \n",
       "261342                                        0   \n",
       "9898                                          0   \n",
       "433719                                        0   \n",
       "\n",
       "        t__f924bece-1fc1-42bf-b22c-194288b30f63  \\\n",
       "123256                                        0   \n",
       "510065                                        0   \n",
       "61215                                         0   \n",
       "43166                                         0   \n",
       "189430                                        0   \n",
       "...                                         ...   \n",
       "205821                                        0   \n",
       "46177                                         0   \n",
       "261342                                        0   \n",
       "9898                                          0   \n",
       "433719                                        0   \n",
       "\n",
       "        t__faaa422f-bf27-4d36-a7a7-dea6f6972d10  \\\n",
       "123256                                        1   \n",
       "510065                                        0   \n",
       "61215                                         0   \n",
       "43166                                         0   \n",
       "189430                                        0   \n",
       "...                                         ...   \n",
       "205821                                        0   \n",
       "46177                                         0   \n",
       "261342                                        0   \n",
       "9898                                          0   \n",
       "433719                                        0   \n",
       "\n",
       "        t__fbee95be-846c-4fc1-92b9-c2075821f036  \\\n",
       "123256                                        0   \n",
       "510065                                        0   \n",
       "61215                                         0   \n",
       "43166                                         0   \n",
       "189430                                        0   \n",
       "...                                         ...   \n",
       "205821                                        0   \n",
       "46177                                         0   \n",
       "261342                                        0   \n",
       "9898                                          0   \n",
       "433719                                        0   \n",
       "\n",
       "        t__fd57dd3e-da67-4b14-9f46-8c5aabe54e8a  \n",
       "123256                                        0  \n",
       "510065                                        0  \n",
       "61215                                         1  \n",
       "43166                                         0  \n",
       "189430                                        0  \n",
       "...                                         ...  \n",
       "205821                                        0  \n",
       "46177                                         0  \n",
       "261342                                        0  \n",
       "9898                                          0  \n",
       "433719                                        0  \n",
       "\n",
       "[100 rows x 95 columns]"
      ]
     },
     "execution_count": 165,
     "metadata": {},
     "output_type": "execute_result"
    }
   ],
   "source": [
    "test = newdf.sample(n=100)\n",
    "pd.get_dummies(test['targetId'], prefix=\"t_\")"
   ]
  },
  {
   "cell_type": "code",
   "execution_count": 174,
   "metadata": {},
   "outputs": [
    {
     "data": {
      "text/html": [
       "<div>\n",
       "<style scoped>\n",
       "    .dataframe tbody tr th:only-of-type {\n",
       "        vertical-align: middle;\n",
       "    }\n",
       "\n",
       "    .dataframe tbody tr th {\n",
       "        vertical-align: top;\n",
       "    }\n",
       "\n",
       "    .dataframe thead th {\n",
       "        text-align: right;\n",
       "    }\n",
       "</style>\n",
       "<table border=\"1\" class=\"dataframe\">\n",
       "  <thead>\n",
       "    <tr style=\"text-align: right;\">\n",
       "      <th></th>\n",
       "      <th>targetId</th>\n",
       "      <th>investigationId</th>\n",
       "      <th>coordinates</th>\n",
       "      <th>locationType</th>\n",
       "      <th>lastSpotted</th>\n",
       "      <th>startTime</th>\n",
       "      <th>endTime</th>\n",
       "      <th>timestamp</th>\n",
       "    </tr>\n",
       "  </thead>\n",
       "  <tbody>\n",
       "    <tr>\n",
       "      <th>194649</th>\n",
       "      <td>b83344f3-303f-4e31-a909-c53ea8b01c4b</td>\n",
       "      <td>COVID19___country-SAU_20200331_145940</td>\n",
       "      <td>{'lat': 26.279399, 'lon': 50.2083}</td>\n",
       "      <td>regionPoint</td>\n",
       "      <td>NaN</td>\n",
       "      <td>2020-03-11T11:48:45Z</td>\n",
       "      <td>2020-03-11T11:48:45Z</td>\n",
       "      <td>NaN</td>\n",
       "    </tr>\n",
       "    <tr>\n",
       "      <th>194650</th>\n",
       "      <td>b83344f3-303f-4e31-a909-c53ea8b01c4b</td>\n",
       "      <td>COVID19___country-SAU_20200331_145940</td>\n",
       "      <td>{'lat': 24.468599, 'lon': 39.614199}</td>\n",
       "      <td>regionPoint</td>\n",
       "      <td>NaN</td>\n",
       "      <td>2020-03-11T11:48:46Z</td>\n",
       "      <td>2020-03-11T11:48:46Z</td>\n",
       "      <td>NaN</td>\n",
       "    </tr>\n",
       "    <tr>\n",
       "      <th>194651</th>\n",
       "      <td>b83344f3-303f-4e31-a909-c53ea8b01c4b</td>\n",
       "      <td>COVID19___country-SAU_20200331_145940</td>\n",
       "      <td>{'lat': 24.6537, 'lon': 46.7152}</td>\n",
       "      <td>lastLocation</td>\n",
       "      <td>2020-03-18T08:55:01Z</td>\n",
       "      <td>NaN</td>\n",
       "      <td>NaN</td>\n",
       "      <td>NaN</td>\n",
       "    </tr>\n",
       "  </tbody>\n",
       "</table>\n",
       "</div>"
      ],
      "text/plain": [
       "                                    targetId  \\\n",
       "194649  b83344f3-303f-4e31-a909-c53ea8b01c4b   \n",
       "194650  b83344f3-303f-4e31-a909-c53ea8b01c4b   \n",
       "194651  b83344f3-303f-4e31-a909-c53ea8b01c4b   \n",
       "\n",
       "                              investigationId  \\\n",
       "194649  COVID19___country-SAU_20200331_145940   \n",
       "194650  COVID19___country-SAU_20200331_145940   \n",
       "194651  COVID19___country-SAU_20200331_145940   \n",
       "\n",
       "                                 coordinates  locationType  \\\n",
       "194649    {'lat': 26.279399, 'lon': 50.2083}   regionPoint   \n",
       "194650  {'lat': 24.468599, 'lon': 39.614199}   regionPoint   \n",
       "194651      {'lat': 24.6537, 'lon': 46.7152}  lastLocation   \n",
       "\n",
       "                 lastSpotted             startTime               endTime  \\\n",
       "194649                   NaN  2020-03-11T11:48:45Z  2020-03-11T11:48:45Z   \n",
       "194650                   NaN  2020-03-11T11:48:46Z  2020-03-11T11:48:46Z   \n",
       "194651  2020-03-18T08:55:01Z                   NaN                   NaN   \n",
       "\n",
       "        timestamp  \n",
       "194649        NaN  \n",
       "194650        NaN  \n",
       "194651        NaN  "
      ]
     },
     "execution_count": 174,
     "metadata": {},
     "output_type": "execute_result"
    }
   ],
   "source": [
    "df[df['targetId'] == \"b83344f3-303f-4e31-a909-c53ea8b01c4b\"]"
   ]
  },
  {
   "cell_type": "code",
   "execution_count": 175,
   "metadata": {},
   "outputs": [
    {
     "data": {
      "text/html": [
       "<div>\n",
       "<style scoped>\n",
       "    .dataframe tbody tr th:only-of-type {\n",
       "        vertical-align: middle;\n",
       "    }\n",
       "\n",
       "    .dataframe tbody tr th {\n",
       "        vertical-align: top;\n",
       "    }\n",
       "\n",
       "    .dataframe thead th {\n",
       "        text-align: right;\n",
       "    }\n",
       "</style>\n",
       "<table border=\"1\" class=\"dataframe\">\n",
       "  <thead>\n",
       "    <tr style=\"text-align: right;\">\n",
       "      <th></th>\n",
       "      <th>targetId</th>\n",
       "      <th>investigationId</th>\n",
       "      <th>coordinates</th>\n",
       "      <th>locationType</th>\n",
       "      <th>lastSpotted</th>\n",
       "      <th>startTime</th>\n",
       "      <th>endTime</th>\n",
       "      <th>timestamp</th>\n",
       "    </tr>\n",
       "  </thead>\n",
       "  <tbody>\n",
       "    <tr>\n",
       "      <th>0</th>\n",
       "      <td>0d1f5b02-3178-494b-a0c7-bbc171249e3f</td>\n",
       "      <td>COVID19___country-BHR_20200419_0713</td>\n",
       "      <td>{'lat': 26.229584, 'lon': 50.496015}</td>\n",
       "      <td>lastLocation</td>\n",
       "      <td>2020-03-28T23:50:18Z</td>\n",
       "      <td>NaN</td>\n",
       "      <td>NaN</td>\n",
       "      <td>NaN</td>\n",
       "    </tr>\n",
       "    <tr>\n",
       "      <th>1</th>\n",
       "      <td>0d1f5b02-3178-494b-a0c7-bbc171249e3f</td>\n",
       "      <td>COVID19___country-BHR_20200419_0713</td>\n",
       "      <td>{'lat': 26.1567, 'lon': 50.66749}</td>\n",
       "      <td>regionPoint</td>\n",
       "      <td>NaN</td>\n",
       "      <td>2020-03-26T11:44:03Z</td>\n",
       "      <td>2020-03-26T11:44:03Z</td>\n",
       "      <td>NaN</td>\n",
       "    </tr>\n",
       "    <tr>\n",
       "      <th>2</th>\n",
       "      <td>0d1f5b02-3178-494b-a0c7-bbc171249e3f</td>\n",
       "      <td>COVID19___country-BHR_20200419_0713</td>\n",
       "      <td>{'lat': 26.14344, 'lon': 50.60415}</td>\n",
       "      <td>regionPoint</td>\n",
       "      <td>NaN</td>\n",
       "      <td>2020-03-26T15:30:48Z</td>\n",
       "      <td>2020-03-26T15:30:48Z</td>\n",
       "      <td>NaN</td>\n",
       "    </tr>\n",
       "    <tr>\n",
       "      <th>3</th>\n",
       "      <td>0d1f5b02-3178-494b-a0c7-bbc171249e3f</td>\n",
       "      <td>COVID19___country-BHR_20200419_0713</td>\n",
       "      <td>{'lat': 26.11736, 'lon': 50.63323}</td>\n",
       "      <td>regionPoint</td>\n",
       "      <td>NaN</td>\n",
       "      <td>2020-03-21T21:16:28Z</td>\n",
       "      <td>2020-03-21T21:16:30Z</td>\n",
       "      <td>NaN</td>\n",
       "    </tr>\n",
       "    <tr>\n",
       "      <th>4</th>\n",
       "      <td>0d1f5b02-3178-494b-a0c7-bbc171249e3f</td>\n",
       "      <td>COVID19___country-BHR_20200419_0713</td>\n",
       "      <td>{'lat': 26.1567, 'lon': 50.66749}</td>\n",
       "      <td>keyLocation</td>\n",
       "      <td>NaN</td>\n",
       "      <td>2020-03-26T11:44:03Z</td>\n",
       "      <td>2020-03-26T11:44:03Z</td>\n",
       "      <td>NaN</td>\n",
       "    </tr>\n",
       "    <tr>\n",
       "      <th>...</th>\n",
       "      <td>...</td>\n",
       "      <td>...</td>\n",
       "      <td>...</td>\n",
       "      <td>...</td>\n",
       "      <td>...</td>\n",
       "      <td>...</td>\n",
       "      <td>...</td>\n",
       "      <td>...</td>\n",
       "    </tr>\n",
       "    <tr>\n",
       "      <th>564277</th>\n",
       "      <td>3918f40c-b934-4ad5-b822-be048f1e5a5a</td>\n",
       "      <td>COVID19___country_IL_20200326_142406</td>\n",
       "      <td>{'lat': 31.801468, 'lon': 34.6524}</td>\n",
       "      <td>meetingPlace</td>\n",
       "      <td>NaN</td>\n",
       "      <td>2020-03-18T00:43:01Z</td>\n",
       "      <td>2020-03-18T00:44:44Z</td>\n",
       "      <td>NaN</td>\n",
       "    </tr>\n",
       "    <tr>\n",
       "      <th>564278</th>\n",
       "      <td>3918f40c-b934-4ad5-b822-be048f1e5a5a</td>\n",
       "      <td>COVID19___country_IL_20200326_142406</td>\n",
       "      <td>{'lat': 31.801438, 'lon': 34.652359}</td>\n",
       "      <td>meetingPlace</td>\n",
       "      <td>NaN</td>\n",
       "      <td>2020-03-18T00:40:42Z</td>\n",
       "      <td>2020-03-18T00:44:44Z</td>\n",
       "      <td>NaN</td>\n",
       "    </tr>\n",
       "    <tr>\n",
       "      <th>564279</th>\n",
       "      <td>3918f40c-b934-4ad5-b822-be048f1e5a5a</td>\n",
       "      <td>COVID19___country_IL_20200326_142406</td>\n",
       "      <td>{'lat': 31.801473, 'lon': 34.652293}</td>\n",
       "      <td>meetingPlace</td>\n",
       "      <td>NaN</td>\n",
       "      <td>2020-03-18T00:34:42Z</td>\n",
       "      <td>2020-03-18T00:34:43Z</td>\n",
       "      <td>NaN</td>\n",
       "    </tr>\n",
       "    <tr>\n",
       "      <th>564280</th>\n",
       "      <td>3918f40c-b934-4ad5-b822-be048f1e5a5a</td>\n",
       "      <td>COVID19___country_IL_20200326_142406</td>\n",
       "      <td>{'lat': 31.801469, 'lon': 34.652368}</td>\n",
       "      <td>meetingPlace</td>\n",
       "      <td>NaN</td>\n",
       "      <td>2020-03-18T00:34:42Z</td>\n",
       "      <td>2020-03-18T00:40:25Z</td>\n",
       "      <td>NaN</td>\n",
       "    </tr>\n",
       "    <tr>\n",
       "      <th>564281</th>\n",
       "      <td>c0e3660a-e91e-4039-a6de-5fd32cc4dc5b</td>\n",
       "      <td>COVID19___country_IL_20200326_142406</td>\n",
       "      <td>{'lat': 31.801462, 'lon': 34.652454}</td>\n",
       "      <td>lastLocation</td>\n",
       "      <td>2020-03-25T22:53:56Z</td>\n",
       "      <td>NaN</td>\n",
       "      <td>NaN</td>\n",
       "      <td>NaN</td>\n",
       "    </tr>\n",
       "  </tbody>\n",
       "</table>\n",
       "<p>564282 rows × 8 columns</p>\n",
       "</div>"
      ],
      "text/plain": [
       "                                    targetId  \\\n",
       "0       0d1f5b02-3178-494b-a0c7-bbc171249e3f   \n",
       "1       0d1f5b02-3178-494b-a0c7-bbc171249e3f   \n",
       "2       0d1f5b02-3178-494b-a0c7-bbc171249e3f   \n",
       "3       0d1f5b02-3178-494b-a0c7-bbc171249e3f   \n",
       "4       0d1f5b02-3178-494b-a0c7-bbc171249e3f   \n",
       "...                                      ...   \n",
       "564277  3918f40c-b934-4ad5-b822-be048f1e5a5a   \n",
       "564278  3918f40c-b934-4ad5-b822-be048f1e5a5a   \n",
       "564279  3918f40c-b934-4ad5-b822-be048f1e5a5a   \n",
       "564280  3918f40c-b934-4ad5-b822-be048f1e5a5a   \n",
       "564281  c0e3660a-e91e-4039-a6de-5fd32cc4dc5b   \n",
       "\n",
       "                             investigationId  \\\n",
       "0        COVID19___country-BHR_20200419_0713   \n",
       "1        COVID19___country-BHR_20200419_0713   \n",
       "2        COVID19___country-BHR_20200419_0713   \n",
       "3        COVID19___country-BHR_20200419_0713   \n",
       "4        COVID19___country-BHR_20200419_0713   \n",
       "...                                      ...   \n",
       "564277  COVID19___country_IL_20200326_142406   \n",
       "564278  COVID19___country_IL_20200326_142406   \n",
       "564279  COVID19___country_IL_20200326_142406   \n",
       "564280  COVID19___country_IL_20200326_142406   \n",
       "564281  COVID19___country_IL_20200326_142406   \n",
       "\n",
       "                                 coordinates  locationType  \\\n",
       "0       {'lat': 26.229584, 'lon': 50.496015}  lastLocation   \n",
       "1          {'lat': 26.1567, 'lon': 50.66749}   regionPoint   \n",
       "2         {'lat': 26.14344, 'lon': 50.60415}   regionPoint   \n",
       "3         {'lat': 26.11736, 'lon': 50.63323}   regionPoint   \n",
       "4          {'lat': 26.1567, 'lon': 50.66749}   keyLocation   \n",
       "...                                      ...           ...   \n",
       "564277    {'lat': 31.801468, 'lon': 34.6524}  meetingPlace   \n",
       "564278  {'lat': 31.801438, 'lon': 34.652359}  meetingPlace   \n",
       "564279  {'lat': 31.801473, 'lon': 34.652293}  meetingPlace   \n",
       "564280  {'lat': 31.801469, 'lon': 34.652368}  meetingPlace   \n",
       "564281  {'lat': 31.801462, 'lon': 34.652454}  lastLocation   \n",
       "\n",
       "                 lastSpotted             startTime               endTime  \\\n",
       "0       2020-03-28T23:50:18Z                   NaN                   NaN   \n",
       "1                        NaN  2020-03-26T11:44:03Z  2020-03-26T11:44:03Z   \n",
       "2                        NaN  2020-03-26T15:30:48Z  2020-03-26T15:30:48Z   \n",
       "3                        NaN  2020-03-21T21:16:28Z  2020-03-21T21:16:30Z   \n",
       "4                        NaN  2020-03-26T11:44:03Z  2020-03-26T11:44:03Z   \n",
       "...                      ...                   ...                   ...   \n",
       "564277                   NaN  2020-03-18T00:43:01Z  2020-03-18T00:44:44Z   \n",
       "564278                   NaN  2020-03-18T00:40:42Z  2020-03-18T00:44:44Z   \n",
       "564279                   NaN  2020-03-18T00:34:42Z  2020-03-18T00:34:43Z   \n",
       "564280                   NaN  2020-03-18T00:34:42Z  2020-03-18T00:40:25Z   \n",
       "564281  2020-03-25T22:53:56Z                   NaN                   NaN   \n",
       "\n",
       "        timestamp  \n",
       "0             NaN  \n",
       "1             NaN  \n",
       "2             NaN  \n",
       "3             NaN  \n",
       "4             NaN  \n",
       "...           ...  \n",
       "564277        NaN  \n",
       "564278        NaN  \n",
       "564279        NaN  \n",
       "564280        NaN  \n",
       "564281        NaN  \n",
       "\n",
       "[564282 rows x 8 columns]"
      ]
     },
     "execution_count": 175,
     "metadata": {},
     "output_type": "execute_result"
    }
   ],
   "source": [
    "df"
   ]
  },
  {
   "cell_type": "code",
   "execution_count": null,
   "metadata": {},
   "outputs": [],
   "source": []
  }
 ],
 "metadata": {
  "kernelspec": {
   "display_name": "Python 3",
   "language": "python",
   "name": "python3"
  },
  "language_info": {
   "codemirror_mode": {
    "name": "ipython",
    "version": 3
   },
   "file_extension": ".py",
   "mimetype": "text/x-python",
   "name": "python",
   "nbconvert_exporter": "python",
   "pygments_lexer": "ipython3",
   "version": "3.7.7"
  }
 },
 "nbformat": 4,
 "nbformat_minor": 4
}
