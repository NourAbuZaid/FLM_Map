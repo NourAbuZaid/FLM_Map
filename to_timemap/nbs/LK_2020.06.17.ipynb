{
 "cells": [
  {
   "cell_type": "code",
   "execution_count": 1,
   "metadata": {},
   "outputs": [],
   "source": [
    "import json\n",
    "import xlsxwriter\n",
    "from fastscript import *"
   ]
  },
  {
   "cell_type": "code",
   "execution_count": 2,
   "metadata": {},
   "outputs": [],
   "source": [
    "HEADERS = [\n",
    "    \"desc\",\n",
    "    \"date\",\n",
    "    \"time\",\n",
    "    \"latitude\",\n",
    "    \"longitude\"\n",
    "]"
   ]
  },
  {
   "cell_type": "code",
   "execution_count": 3,
   "metadata": {},
   "outputs": [],
   "source": [
    "def from_fleming(jdata):\n",
    "    odata = []\n",
    "    for d in jdata:\n",
    "        rdata = []\n",
    "        # TODO: magicking out the relevant cells\n",
    "        odata.append(rdata)\n",
    "\n",
    "    return HEADERS, odata"
   ]
  },
  {
   "cell_type": "code",
   "execution_count": 4,
   "metadata": {},
   "outputs": [],
   "source": [
    "CONVERTER = from_fleming\n",
    "\n",
    "@call_parse\n",
    "def main(inp:Param(\"Input file\", str),\n",
    "         outp:Param(\"Output file\", str)=\"out.xlsx\"):\n",
    "    workbook = xlsxwriter.Workbook(outp)\n",
    "    worksheet = workbook.add_worksheet('export_events')\n",
    "\n",
    "    with open(inp, 'r') as f:\n",
    "        data = json.load(f)\n",
    "\n",
    "    conv_data = CONVERTER(data)\n",
    "    headers = conv_data[0]\n",
    "    row_data = conv_data[1]\n",
    "\n",
    "    row = 0\n",
    "    col = 0\n",
    "\n",
    "    for hdr in headers:\n",
    "        worksheet.write(row, col, hdr)\n",
    "        col += 1\n",
    "\n",
    "    row = 1\n",
    "    col = 0\n",
    "\n",
    "    for rdata in row_data:\n",
    "        col = 0\n",
    "        for cell in rdata:\n",
    "            worksheet.write(row, col, cell)\n",
    "            col += 1\n",
    "        row += 1\n",
    "\n",
    "    workbook.close()"
   ]
  },
  {
   "cell_type": "code",
   "execution_count": null,
   "metadata": {},
   "outputs": [],
   "source": []
  }
 ],
 "metadata": {
  "kernelspec": {
   "display_name": "Python 3",
   "language": "python",
   "name": "python3"
  },
  "language_info": {
   "codemirror_mode": {
    "name": "ipython",
    "version": 3
   },
   "file_extension": ".py",
   "mimetype": "text/x-python",
   "name": "python",
   "nbconvert_exporter": "python",
   "pygments_lexer": "ipython3",
   "version": "3.7.7"
  }
 },
 "nbformat": 4,
 "nbformat_minor": 4
}
